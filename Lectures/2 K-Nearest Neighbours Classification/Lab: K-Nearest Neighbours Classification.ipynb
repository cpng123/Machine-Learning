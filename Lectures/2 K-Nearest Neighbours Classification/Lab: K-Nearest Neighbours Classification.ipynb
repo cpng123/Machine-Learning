{
  "nbformat": 4,
  "nbformat_minor": 0,
  "metadata": {
    "colab": {
      "provenance": [],
      "include_colab_link": true
    },
    "kernelspec": {
      "name": "python3",
      "display_name": "Python 3"
    },
    "language_info": {
      "name": "python"
    }
  },
  "cells": [
    {
      "cell_type": "markdown",
      "metadata": {
        "id": "view-in-github",
        "colab_type": "text"
      },
      "source": [
        "<a href=\"https://colab.research.google.com/github/cpng123/Machine-Learning/blob/main/Lectures/2%20K-Nearest%20Neighbours%20Classification/Lab%3A%20K-Nearest%20Neighbours%20Classification.ipynb\" target=\"_parent\"><img src=\"https://colab.research.google.com/assets/colab-badge.svg\" alt=\"Open In Colab\"/></a>"
      ]
    },
    {
      "cell_type": "markdown",
      "source": [
        "## K-Nearest Neighbours Classification"
      ],
      "metadata": {
        "id": "DNQ86nYu3_Sx"
      }
    },
    {
      "cell_type": "markdown",
      "source": [
        "#### **Objective:**\n",
        "In this lab, you will:\n",
        "- Load and explore the Iris dataset.\n",
        "- Implement the K-Nearest Neighbours (KNN) classification algorithm using `scikit-learn`.\n",
        "- Train, tune, and evaluate the model using different values of \\( k \\).\n",
        "- Visualize the model's performance with plots.\n",
        "- Interpret the results of model evaluation."
      ],
      "metadata": {
        "id": "ZJ9LPYrS7Xae"
      }
    },
    {
      "cell_type": "markdown",
      "source": [
        "### 1. **Loading Libraries and the Dataset**\n",
        "\n",
        "#### **Instructions:**\n",
        "We will start by importing the necessary libraries. `numpy` is for numerical operations, `pandas` for handling datasets, and `scikit-learn` provides the tools for building the KNN model."
      ],
      "metadata": {
        "id": "6l9GHlX44R2w"
      }
    },
    {
      "cell_type": "code",
      "source": [
        "# Import necessary libraries\n",
        "import numpy as np\n",
        "import pandas as pd\n",
        "from sklearn.datasets import load_iris\n",
        "from sklearn.model_selection import train_test_split\n",
        "from sklearn.preprocessing import StandardScaler\n",
        "from sklearn.neighbors import KNeighborsClassifier\n",
        "from sklearn.metrics import accuracy_score, classification_report\n",
        "import matplotlib.pyplot as plt  # For plotting"
      ],
      "metadata": {
        "id": "272tHMGs3_u9"
      },
      "execution_count": 1,
      "outputs": []
    },
    {
      "cell_type": "markdown",
      "source": [
        "### **What is K-Nearest Neighbours?**\n",
        "\n",
        "#### **Explanation**:\n",
        "**K-Nearest Neighbours (KNN)** is a simple, intuitive algorithm that classifies data points based on the majority label of their nearest neighbors. Here’s a simple real-world analogy:\n",
        "\n",
        "Imagine you're at a fruit market and you want to know if a new fruit is an apple or an orange. You look at the fruits closest to it, and based on their types, you classify the new fruit. KNN does exactly this: it looks at nearby data points (neighbors) and classifies a new point based on what its neighbors are.\n",
        "\n",
        "#### **Why is the \\( k \\) value important?**\n",
        "- **\\( k \\) = Number of neighbors**: If \\( k \\) is too small (e.g., 1 or 2), the model becomes too sensitive to noise, as it only looks at the closest data points. If \\( k \\) is too large, the model will consider too many neighbors and may ignore important local patterns, resulting in a less specific prediction."
      ],
      "metadata": {
        "id": "ECMyXCGv4Y9f"
      }
    },
    {
      "cell_type": "markdown",
      "source": [
        "### 2. **Loading the Dataset**\n",
        "\n",
        "#### **Instructions**:\n",
        "Let’s load the **Iris dataset** and convert it into a `pandas` DataFrame to make it easier to explore."
      ],
      "metadata": {
        "id": "nub1UL_R4e84"
      }
    },
    {
      "cell_type": "code",
      "source": [
        "# Step 2: Load the Iris dataset and convert to DataFrame\n",
        "\n",
        "iris_data = load_iris()\n",
        "\n",
        "# Convert to pandas DataFrame\n",
        "df = pd.DataFrame(data=iris_data.data, columns=iris_data.feature_names)\n",
        "df['species'] = iris_data.target\n",
        "\n",
        "# View the first few rows to ensure it's loaded correctly\n",
        "### Insert Your Code Here ###  # Use df.head() to display the first rows\n",
        "df.head()\n"
      ],
      "metadata": {
        "id": "GoXSSnEo4lBo",
        "outputId": "0cc71f84-ec93-48aa-e28d-3aea6adf21f7",
        "colab": {
          "base_uri": "https://localhost:8080/",
          "height": 206
        }
      },
      "execution_count": 5,
      "outputs": [
        {
          "output_type": "execute_result",
          "data": {
            "text/plain": [
              "   sepal length (cm)  sepal width (cm)  petal length (cm)  petal width (cm)  \\\n",
              "0                5.1               3.5                1.4               0.2   \n",
              "1                4.9               3.0                1.4               0.2   \n",
              "2                4.7               3.2                1.3               0.2   \n",
              "3                4.6               3.1                1.5               0.2   \n",
              "4                5.0               3.6                1.4               0.2   \n",
              "\n",
              "   species  \n",
              "0        0  \n",
              "1        0  \n",
              "2        0  \n",
              "3        0  \n",
              "4        0  "
            ],
            "text/html": [
              "\n",
              "  <div id=\"df-b5979a08-e079-4a1c-827f-64d1bc407508\" class=\"colab-df-container\">\n",
              "    <div>\n",
              "<style scoped>\n",
              "    .dataframe tbody tr th:only-of-type {\n",
              "        vertical-align: middle;\n",
              "    }\n",
              "\n",
              "    .dataframe tbody tr th {\n",
              "        vertical-align: top;\n",
              "    }\n",
              "\n",
              "    .dataframe thead th {\n",
              "        text-align: right;\n",
              "    }\n",
              "</style>\n",
              "<table border=\"1\" class=\"dataframe\">\n",
              "  <thead>\n",
              "    <tr style=\"text-align: right;\">\n",
              "      <th></th>\n",
              "      <th>sepal length (cm)</th>\n",
              "      <th>sepal width (cm)</th>\n",
              "      <th>petal length (cm)</th>\n",
              "      <th>petal width (cm)</th>\n",
              "      <th>species</th>\n",
              "    </tr>\n",
              "  </thead>\n",
              "  <tbody>\n",
              "    <tr>\n",
              "      <th>0</th>\n",
              "      <td>5.1</td>\n",
              "      <td>3.5</td>\n",
              "      <td>1.4</td>\n",
              "      <td>0.2</td>\n",
              "      <td>0</td>\n",
              "    </tr>\n",
              "    <tr>\n",
              "      <th>1</th>\n",
              "      <td>4.9</td>\n",
              "      <td>3.0</td>\n",
              "      <td>1.4</td>\n",
              "      <td>0.2</td>\n",
              "      <td>0</td>\n",
              "    </tr>\n",
              "    <tr>\n",
              "      <th>2</th>\n",
              "      <td>4.7</td>\n",
              "      <td>3.2</td>\n",
              "      <td>1.3</td>\n",
              "      <td>0.2</td>\n",
              "      <td>0</td>\n",
              "    </tr>\n",
              "    <tr>\n",
              "      <th>3</th>\n",
              "      <td>4.6</td>\n",
              "      <td>3.1</td>\n",
              "      <td>1.5</td>\n",
              "      <td>0.2</td>\n",
              "      <td>0</td>\n",
              "    </tr>\n",
              "    <tr>\n",
              "      <th>4</th>\n",
              "      <td>5.0</td>\n",
              "      <td>3.6</td>\n",
              "      <td>1.4</td>\n",
              "      <td>0.2</td>\n",
              "      <td>0</td>\n",
              "    </tr>\n",
              "  </tbody>\n",
              "</table>\n",
              "</div>\n",
              "    <div class=\"colab-df-buttons\">\n",
              "\n",
              "  <div class=\"colab-df-container\">\n",
              "    <button class=\"colab-df-convert\" onclick=\"convertToInteractive('df-b5979a08-e079-4a1c-827f-64d1bc407508')\"\n",
              "            title=\"Convert this dataframe to an interactive table.\"\n",
              "            style=\"display:none;\">\n",
              "\n",
              "  <svg xmlns=\"http://www.w3.org/2000/svg\" height=\"24px\" viewBox=\"0 -960 960 960\">\n",
              "    <path d=\"M120-120v-720h720v720H120Zm60-500h600v-160H180v160Zm220 220h160v-160H400v160Zm0 220h160v-160H400v160ZM180-400h160v-160H180v160Zm440 0h160v-160H620v160ZM180-180h160v-160H180v160Zm440 0h160v-160H620v160Z\"/>\n",
              "  </svg>\n",
              "    </button>\n",
              "\n",
              "  <style>\n",
              "    .colab-df-container {\n",
              "      display:flex;\n",
              "      gap: 12px;\n",
              "    }\n",
              "\n",
              "    .colab-df-convert {\n",
              "      background-color: #E8F0FE;\n",
              "      border: none;\n",
              "      border-radius: 50%;\n",
              "      cursor: pointer;\n",
              "      display: none;\n",
              "      fill: #1967D2;\n",
              "      height: 32px;\n",
              "      padding: 0 0 0 0;\n",
              "      width: 32px;\n",
              "    }\n",
              "\n",
              "    .colab-df-convert:hover {\n",
              "      background-color: #E2EBFA;\n",
              "      box-shadow: 0px 1px 2px rgba(60, 64, 67, 0.3), 0px 1px 3px 1px rgba(60, 64, 67, 0.15);\n",
              "      fill: #174EA6;\n",
              "    }\n",
              "\n",
              "    .colab-df-buttons div {\n",
              "      margin-bottom: 4px;\n",
              "    }\n",
              "\n",
              "    [theme=dark] .colab-df-convert {\n",
              "      background-color: #3B4455;\n",
              "      fill: #D2E3FC;\n",
              "    }\n",
              "\n",
              "    [theme=dark] .colab-df-convert:hover {\n",
              "      background-color: #434B5C;\n",
              "      box-shadow: 0px 1px 3px 1px rgba(0, 0, 0, 0.15);\n",
              "      filter: drop-shadow(0px 1px 2px rgba(0, 0, 0, 0.3));\n",
              "      fill: #FFFFFF;\n",
              "    }\n",
              "  </style>\n",
              "\n",
              "    <script>\n",
              "      const buttonEl =\n",
              "        document.querySelector('#df-b5979a08-e079-4a1c-827f-64d1bc407508 button.colab-df-convert');\n",
              "      buttonEl.style.display =\n",
              "        google.colab.kernel.accessAllowed ? 'block' : 'none';\n",
              "\n",
              "      async function convertToInteractive(key) {\n",
              "        const element = document.querySelector('#df-b5979a08-e079-4a1c-827f-64d1bc407508');\n",
              "        const dataTable =\n",
              "          await google.colab.kernel.invokeFunction('convertToInteractive',\n",
              "                                                    [key], {});\n",
              "        if (!dataTable) return;\n",
              "\n",
              "        const docLinkHtml = 'Like what you see? Visit the ' +\n",
              "          '<a target=\"_blank\" href=https://colab.research.google.com/notebooks/data_table.ipynb>data table notebook</a>'\n",
              "          + ' to learn more about interactive tables.';\n",
              "        element.innerHTML = '';\n",
              "        dataTable['output_type'] = 'display_data';\n",
              "        await google.colab.output.renderOutput(dataTable, element);\n",
              "        const docLink = document.createElement('div');\n",
              "        docLink.innerHTML = docLinkHtml;\n",
              "        element.appendChild(docLink);\n",
              "      }\n",
              "    </script>\n",
              "  </div>\n",
              "\n",
              "\n",
              "<div id=\"df-ff763938-263b-45cd-8519-16aa835a7877\">\n",
              "  <button class=\"colab-df-quickchart\" onclick=\"quickchart('df-ff763938-263b-45cd-8519-16aa835a7877')\"\n",
              "            title=\"Suggest charts\"\n",
              "            style=\"display:none;\">\n",
              "\n",
              "<svg xmlns=\"http://www.w3.org/2000/svg\" height=\"24px\"viewBox=\"0 0 24 24\"\n",
              "     width=\"24px\">\n",
              "    <g>\n",
              "        <path d=\"M19 3H5c-1.1 0-2 .9-2 2v14c0 1.1.9 2 2 2h14c1.1 0 2-.9 2-2V5c0-1.1-.9-2-2-2zM9 17H7v-7h2v7zm4 0h-2V7h2v10zm4 0h-2v-4h2v4z\"/>\n",
              "    </g>\n",
              "</svg>\n",
              "  </button>\n",
              "\n",
              "<style>\n",
              "  .colab-df-quickchart {\n",
              "      --bg-color: #E8F0FE;\n",
              "      --fill-color: #1967D2;\n",
              "      --hover-bg-color: #E2EBFA;\n",
              "      --hover-fill-color: #174EA6;\n",
              "      --disabled-fill-color: #AAA;\n",
              "      --disabled-bg-color: #DDD;\n",
              "  }\n",
              "\n",
              "  [theme=dark] .colab-df-quickchart {\n",
              "      --bg-color: #3B4455;\n",
              "      --fill-color: #D2E3FC;\n",
              "      --hover-bg-color: #434B5C;\n",
              "      --hover-fill-color: #FFFFFF;\n",
              "      --disabled-bg-color: #3B4455;\n",
              "      --disabled-fill-color: #666;\n",
              "  }\n",
              "\n",
              "  .colab-df-quickchart {\n",
              "    background-color: var(--bg-color);\n",
              "    border: none;\n",
              "    border-radius: 50%;\n",
              "    cursor: pointer;\n",
              "    display: none;\n",
              "    fill: var(--fill-color);\n",
              "    height: 32px;\n",
              "    padding: 0;\n",
              "    width: 32px;\n",
              "  }\n",
              "\n",
              "  .colab-df-quickchart:hover {\n",
              "    background-color: var(--hover-bg-color);\n",
              "    box-shadow: 0 1px 2px rgba(60, 64, 67, 0.3), 0 1px 3px 1px rgba(60, 64, 67, 0.15);\n",
              "    fill: var(--button-hover-fill-color);\n",
              "  }\n",
              "\n",
              "  .colab-df-quickchart-complete:disabled,\n",
              "  .colab-df-quickchart-complete:disabled:hover {\n",
              "    background-color: var(--disabled-bg-color);\n",
              "    fill: var(--disabled-fill-color);\n",
              "    box-shadow: none;\n",
              "  }\n",
              "\n",
              "  .colab-df-spinner {\n",
              "    border: 2px solid var(--fill-color);\n",
              "    border-color: transparent;\n",
              "    border-bottom-color: var(--fill-color);\n",
              "    animation:\n",
              "      spin 1s steps(1) infinite;\n",
              "  }\n",
              "\n",
              "  @keyframes spin {\n",
              "    0% {\n",
              "      border-color: transparent;\n",
              "      border-bottom-color: var(--fill-color);\n",
              "      border-left-color: var(--fill-color);\n",
              "    }\n",
              "    20% {\n",
              "      border-color: transparent;\n",
              "      border-left-color: var(--fill-color);\n",
              "      border-top-color: var(--fill-color);\n",
              "    }\n",
              "    30% {\n",
              "      border-color: transparent;\n",
              "      border-left-color: var(--fill-color);\n",
              "      border-top-color: var(--fill-color);\n",
              "      border-right-color: var(--fill-color);\n",
              "    }\n",
              "    40% {\n",
              "      border-color: transparent;\n",
              "      border-right-color: var(--fill-color);\n",
              "      border-top-color: var(--fill-color);\n",
              "    }\n",
              "    60% {\n",
              "      border-color: transparent;\n",
              "      border-right-color: var(--fill-color);\n",
              "    }\n",
              "    80% {\n",
              "      border-color: transparent;\n",
              "      border-right-color: var(--fill-color);\n",
              "      border-bottom-color: var(--fill-color);\n",
              "    }\n",
              "    90% {\n",
              "      border-color: transparent;\n",
              "      border-bottom-color: var(--fill-color);\n",
              "    }\n",
              "  }\n",
              "</style>\n",
              "\n",
              "  <script>\n",
              "    async function quickchart(key) {\n",
              "      const quickchartButtonEl =\n",
              "        document.querySelector('#' + key + ' button');\n",
              "      quickchartButtonEl.disabled = true;  // To prevent multiple clicks.\n",
              "      quickchartButtonEl.classList.add('colab-df-spinner');\n",
              "      try {\n",
              "        const charts = await google.colab.kernel.invokeFunction(\n",
              "            'suggestCharts', [key], {});\n",
              "      } catch (error) {\n",
              "        console.error('Error during call to suggestCharts:', error);\n",
              "      }\n",
              "      quickchartButtonEl.classList.remove('colab-df-spinner');\n",
              "      quickchartButtonEl.classList.add('colab-df-quickchart-complete');\n",
              "    }\n",
              "    (() => {\n",
              "      let quickchartButtonEl =\n",
              "        document.querySelector('#df-ff763938-263b-45cd-8519-16aa835a7877 button');\n",
              "      quickchartButtonEl.style.display =\n",
              "        google.colab.kernel.accessAllowed ? 'block' : 'none';\n",
              "    })();\n",
              "  </script>\n",
              "</div>\n",
              "\n",
              "    </div>\n",
              "  </div>\n"
            ],
            "application/vnd.google.colaboratory.intrinsic+json": {
              "type": "dataframe",
              "variable_name": "df",
              "summary": "{\n  \"name\": \"df\",\n  \"rows\": 150,\n  \"fields\": [\n    {\n      \"column\": \"sepal length (cm)\",\n      \"properties\": {\n        \"dtype\": \"number\",\n        \"std\": 0.8280661279778629,\n        \"min\": 4.3,\n        \"max\": 7.9,\n        \"num_unique_values\": 35,\n        \"samples\": [\n          6.2,\n          4.5,\n          5.6\n        ],\n        \"semantic_type\": \"\",\n        \"description\": \"\"\n      }\n    },\n    {\n      \"column\": \"sepal width (cm)\",\n      \"properties\": {\n        \"dtype\": \"number\",\n        \"std\": 0.435866284936698,\n        \"min\": 2.0,\n        \"max\": 4.4,\n        \"num_unique_values\": 23,\n        \"samples\": [\n          2.3,\n          4.0,\n          3.5\n        ],\n        \"semantic_type\": \"\",\n        \"description\": \"\"\n      }\n    },\n    {\n      \"column\": \"petal length (cm)\",\n      \"properties\": {\n        \"dtype\": \"number\",\n        \"std\": 1.7652982332594667,\n        \"min\": 1.0,\n        \"max\": 6.9,\n        \"num_unique_values\": 43,\n        \"samples\": [\n          6.7,\n          3.8,\n          3.7\n        ],\n        \"semantic_type\": \"\",\n        \"description\": \"\"\n      }\n    },\n    {\n      \"column\": \"petal width (cm)\",\n      \"properties\": {\n        \"dtype\": \"number\",\n        \"std\": 0.7622376689603465,\n        \"min\": 0.1,\n        \"max\": 2.5,\n        \"num_unique_values\": 22,\n        \"samples\": [\n          0.2,\n          1.2,\n          1.3\n        ],\n        \"semantic_type\": \"\",\n        \"description\": \"\"\n      }\n    },\n    {\n      \"column\": \"species\",\n      \"properties\": {\n        \"dtype\": \"number\",\n        \"std\": 0,\n        \"min\": 0,\n        \"max\": 2,\n        \"num_unique_values\": 3,\n        \"samples\": [\n          0,\n          1,\n          2\n        ],\n        \"semantic_type\": \"\",\n        \"description\": \"\"\n      }\n    }\n  ]\n}"
            }
          },
          "metadata": {},
          "execution_count": 5
        }
      ]
    },
    {
      "cell_type": "markdown",
      "source": [
        "#### **Hint**:\n",
        "Use `df.head()` to show the first five rows of the dataset."
      ],
      "metadata": {
        "id": "7et9vYia4pLH"
      }
    },
    {
      "cell_type": "markdown",
      "source": [
        "### **Why Do We Standardize the Data?**\n",
        "\n",
        "#### **Explanation**:\n",
        "KNN calculates distances between data points. If the features (like sepal length and petal width) are on different scales, the model will give more importance to features with larger values. For instance, if one feature is measured in centimeters and another in meters, the model will prioritize the feature with larger numbers.\n",
        "\n",
        "By **standardizing** the data (scaling it to have a mean of 0 and a standard deviation of 1), we ensure that all features are on the same scale, allowing the model to treat them equally."
      ],
      "metadata": {
        "id": "sCfPDkT74ugp"
      }
    },
    {
      "cell_type": "markdown",
      "source": [
        "### 3. **Exploring the Dataset**\n",
        "\n",
        "#### **Instructions**:\n",
        "Before building the model, we should explore the dataset to check its size and the distribution of the target classes (species)."
      ],
      "metadata": {
        "id": "THFLsi4l4z7n"
      }
    },
    {
      "cell_type": "code",
      "source": [
        "# Step 3: Check the shape of the dataset and distribution of species\n",
        "\n",
        "# Check the shape of the DataFrame (number of rows and columns)\n",
        "### Insert Your Code Here ###\n",
        "df.shape\n",
        "\n",
        "# Check the distribution of species (target labels)\n",
        "### Insert Your Code Here ###\n",
        "df['species'].value_counts()"
      ],
      "metadata": {
        "id": "O6SR30wI47j0",
        "outputId": "efdc808e-e88c-485a-d5f2-62d5178a0f07",
        "colab": {
          "base_uri": "https://localhost:8080/",
          "height": 209
        }
      },
      "execution_count": 7,
      "outputs": [
        {
          "output_type": "execute_result",
          "data": {
            "text/plain": [
              "species\n",
              "0    50\n",
              "1    50\n",
              "2    50\n",
              "Name: count, dtype: int64"
            ],
            "text/html": [
              "<div>\n",
              "<style scoped>\n",
              "    .dataframe tbody tr th:only-of-type {\n",
              "        vertical-align: middle;\n",
              "    }\n",
              "\n",
              "    .dataframe tbody tr th {\n",
              "        vertical-align: top;\n",
              "    }\n",
              "\n",
              "    .dataframe thead th {\n",
              "        text-align: right;\n",
              "    }\n",
              "</style>\n",
              "<table border=\"1\" class=\"dataframe\">\n",
              "  <thead>\n",
              "    <tr style=\"text-align: right;\">\n",
              "      <th></th>\n",
              "      <th>count</th>\n",
              "    </tr>\n",
              "    <tr>\n",
              "      <th>species</th>\n",
              "      <th></th>\n",
              "    </tr>\n",
              "  </thead>\n",
              "  <tbody>\n",
              "    <tr>\n",
              "      <th>0</th>\n",
              "      <td>50</td>\n",
              "    </tr>\n",
              "    <tr>\n",
              "      <th>1</th>\n",
              "      <td>50</td>\n",
              "    </tr>\n",
              "    <tr>\n",
              "      <th>2</th>\n",
              "      <td>50</td>\n",
              "    </tr>\n",
              "  </tbody>\n",
              "</table>\n",
              "</div><br><label><b>dtype:</b> int64</label>"
            ]
          },
          "metadata": {},
          "execution_count": 7
        }
      ]
    },
    {
      "cell_type": "markdown",
      "source": [
        "#### **Hint**:\n",
        "- Use `df.shape` to check the dataset's dimensions.\n",
        "- Use `df['species'].value_counts()` to check the number of samples for each species.\n"
      ],
      "metadata": {
        "id": "zGT4lGRK48vT"
      }
    },
    {
      "cell_type": "markdown",
      "source": [
        "### 4. **Splitting the Data**\n",
        "\n",
        "#### **Explanation**:\n",
        "To evaluate the performance of our KNN model, we need to split the data into three sets:\n",
        "- **Training Set**: Used to train the model.\n",
        "- **Validation Set**: Used to tune the model’s hyperparameters (like the value of \\( k \\)).\n",
        "- **Test Set**: Used to evaluate the model's performance on unseen data.\n",
        "\n",
        "#### **Why use a validation set?**\n",
        "The validation set helps us fine-tune the model by selecting the best hyperparameters (e.g., choosing the optimal value of \\( k \\)). Once we've tuned the model using the validation set, we can evaluate it on the test set to see how well it generalizes to new data.\n",
        "\n",
        "#### **Instructions**:\n",
        "We will now split the data into **training**, **validation**, and **test sets**. First, we split 60% for training, and then divide the remaining 40% equally between validation and test sets."
      ],
      "metadata": {
        "id": "d0CxH3Zb5F6U"
      }
    },
    {
      "cell_type": "code",
      "source": [
        "# Step 4: Split the dataset into training, validation, and test sets\n",
        "\n",
        "X = iris_data.data  # Features\n",
        "y = iris_data.target  # Labels\n",
        "\n",
        "# Split the data: 60% training, 20% validation, 20% test\n",
        "X_train, X_temp, y_train, y_temp = train_test_split(X, y, test_size=0.4, random_state=42, stratify=y)\n",
        "X_val, X_test, y_val, y_test = train_test_split(X_temp, y_temp, test_size=0.5, random_state=42, stratify=y_temp)\n",
        "\n",
        "# Check the sizes of the sets\n",
        "### Insert Your Code Here ###\n",
        "print(f\"Training set size: {X_train.shape}, {y_train.shape}\")\n",
        "print(f\"Validation set size: {X_val.shape}, {y_val.shape}\")\n",
        "print(f\"Test set size: {X_test.shape}, {y_test.shape}\")"
      ],
      "metadata": {
        "id": "cVkvpQOK5Mld",
        "outputId": "9504ff5f-70f0-4b46-9423-c75076aacf23",
        "colab": {
          "base_uri": "https://localhost:8080/"
        }
      },
      "execution_count": 12,
      "outputs": [
        {
          "output_type": "stream",
          "name": "stdout",
          "text": [
            "Training set size: (90, 4), (90,)\n",
            "Validation set size: (30, 4), (30,)\n",
            "Test set size: (30, 4), (30,)\n"
          ]
        }
      ]
    },
    {
      "cell_type": "markdown",
      "source": [
        "#### **Hint**:\n",
        "Use `train_test_split()` to split the data into training, validation, and test sets."
      ],
      "metadata": {
        "id": "iC0iDIho5Qh2"
      }
    },
    {
      "cell_type": "markdown",
      "source": [
        "### 5. **Standardizing the Data**\n",
        "\n",
        "#### **Instructions**:\n",
        "Now we will **standardize** the features to ensure that all variables are on the same scale before applying the KNN algorithm."
      ],
      "metadata": {
        "id": "XxspLlCZ5Yv_"
      }
    },
    {
      "cell_type": "code",
      "source": [
        "# Step 5: Standardize the feature data using StandardScaler\n",
        "\n",
        "scaler = StandardScaler()  # Initialize the StandardScaler\n",
        "\n",
        "# Fit the scaler on the training data\n",
        "### Insert Your Code Here ###\n",
        "scaler.fit(X_train)\n",
        "\n",
        "# Transform the training, validation, and test sets\n",
        "X_train_scaled = scaler.transform(X_train)\n",
        "X_val_scaled = scaler.transform(X_val)\n",
        "X_test_scaled = scaler.transform(X_test)"
      ],
      "metadata": {
        "id": "FTDM5z5w5mEF"
      },
      "execution_count": 16,
      "outputs": []
    },
    {
      "cell_type": "markdown",
      "source": [
        "#### **Hint**:\n",
        "Use `scaler.fit()` to compute the mean and standard deviation on the training set and `scaler.transform()` to scale the datasets."
      ],
      "metadata": {
        "id": "MHDf-w7m5nUf"
      }
    },
    {
      "cell_type": "markdown",
      "source": [
        "### 6. **Training the KNN Classifier**\n",
        "\n",
        "#### **Instructions**:\n",
        "We will now train the KNN classifier using \\( k=5 \\), meaning we will use the 5 nearest neighbors to classify each data point."
      ],
      "metadata": {
        "id": "uxLqgFne5sXw"
      }
    },
    {
      "cell_type": "code",
      "source": [
        "# Step 6: Train the KNN classifier with k=5\n",
        "\n",
        "knn = KNeighborsClassifier(n_neighbors=5)  # Initialize the classifier\n",
        "\n",
        "# Train the classifier on the scaled training data\n",
        "### Insert Your Code Here ###  # Use knn.fit() to train the model\n",
        "knn.fit(X_train_scaled, y_train)"
      ],
      "metadata": {
        "id": "RyojGO-45yE0",
        "outputId": "34eb8566-2b68-4803-cb0c-db1f45cae59c",
        "colab": {
          "base_uri": "https://localhost:8080/",
          "height": 80
        }
      },
      "execution_count": 21,
      "outputs": [
        {
          "output_type": "execute_result",
          "data": {
            "text/plain": [
              "KNeighborsClassifier()"
            ],
            "text/html": [
              "<style>#sk-container-id-1 {\n",
              "  /* Definition of color scheme common for light and dark mode */\n",
              "  --sklearn-color-text: black;\n",
              "  --sklearn-color-line: gray;\n",
              "  /* Definition of color scheme for unfitted estimators */\n",
              "  --sklearn-color-unfitted-level-0: #fff5e6;\n",
              "  --sklearn-color-unfitted-level-1: #f6e4d2;\n",
              "  --sklearn-color-unfitted-level-2: #ffe0b3;\n",
              "  --sklearn-color-unfitted-level-3: chocolate;\n",
              "  /* Definition of color scheme for fitted estimators */\n",
              "  --sklearn-color-fitted-level-0: #f0f8ff;\n",
              "  --sklearn-color-fitted-level-1: #d4ebff;\n",
              "  --sklearn-color-fitted-level-2: #b3dbfd;\n",
              "  --sklearn-color-fitted-level-3: cornflowerblue;\n",
              "\n",
              "  /* Specific color for light theme */\n",
              "  --sklearn-color-text-on-default-background: var(--sg-text-color, var(--theme-code-foreground, var(--jp-content-font-color1, black)));\n",
              "  --sklearn-color-background: var(--sg-background-color, var(--theme-background, var(--jp-layout-color0, white)));\n",
              "  --sklearn-color-border-box: var(--sg-text-color, var(--theme-code-foreground, var(--jp-content-font-color1, black)));\n",
              "  --sklearn-color-icon: #696969;\n",
              "\n",
              "  @media (prefers-color-scheme: dark) {\n",
              "    /* Redefinition of color scheme for dark theme */\n",
              "    --sklearn-color-text-on-default-background: var(--sg-text-color, var(--theme-code-foreground, var(--jp-content-font-color1, white)));\n",
              "    --sklearn-color-background: var(--sg-background-color, var(--theme-background, var(--jp-layout-color0, #111)));\n",
              "    --sklearn-color-border-box: var(--sg-text-color, var(--theme-code-foreground, var(--jp-content-font-color1, white)));\n",
              "    --sklearn-color-icon: #878787;\n",
              "  }\n",
              "}\n",
              "\n",
              "#sk-container-id-1 {\n",
              "  color: var(--sklearn-color-text);\n",
              "}\n",
              "\n",
              "#sk-container-id-1 pre {\n",
              "  padding: 0;\n",
              "}\n",
              "\n",
              "#sk-container-id-1 input.sk-hidden--visually {\n",
              "  border: 0;\n",
              "  clip: rect(1px 1px 1px 1px);\n",
              "  clip: rect(1px, 1px, 1px, 1px);\n",
              "  height: 1px;\n",
              "  margin: -1px;\n",
              "  overflow: hidden;\n",
              "  padding: 0;\n",
              "  position: absolute;\n",
              "  width: 1px;\n",
              "}\n",
              "\n",
              "#sk-container-id-1 div.sk-dashed-wrapped {\n",
              "  border: 1px dashed var(--sklearn-color-line);\n",
              "  margin: 0 0.4em 0.5em 0.4em;\n",
              "  box-sizing: border-box;\n",
              "  padding-bottom: 0.4em;\n",
              "  background-color: var(--sklearn-color-background);\n",
              "}\n",
              "\n",
              "#sk-container-id-1 div.sk-container {\n",
              "  /* jupyter's `normalize.less` sets `[hidden] { display: none; }`\n",
              "     but bootstrap.min.css set `[hidden] { display: none !important; }`\n",
              "     so we also need the `!important` here to be able to override the\n",
              "     default hidden behavior on the sphinx rendered scikit-learn.org.\n",
              "     See: https://github.com/scikit-learn/scikit-learn/issues/21755 */\n",
              "  display: inline-block !important;\n",
              "  position: relative;\n",
              "}\n",
              "\n",
              "#sk-container-id-1 div.sk-text-repr-fallback {\n",
              "  display: none;\n",
              "}\n",
              "\n",
              "div.sk-parallel-item,\n",
              "div.sk-serial,\n",
              "div.sk-item {\n",
              "  /* draw centered vertical line to link estimators */\n",
              "  background-image: linear-gradient(var(--sklearn-color-text-on-default-background), var(--sklearn-color-text-on-default-background));\n",
              "  background-size: 2px 100%;\n",
              "  background-repeat: no-repeat;\n",
              "  background-position: center center;\n",
              "}\n",
              "\n",
              "/* Parallel-specific style estimator block */\n",
              "\n",
              "#sk-container-id-1 div.sk-parallel-item::after {\n",
              "  content: \"\";\n",
              "  width: 100%;\n",
              "  border-bottom: 2px solid var(--sklearn-color-text-on-default-background);\n",
              "  flex-grow: 1;\n",
              "}\n",
              "\n",
              "#sk-container-id-1 div.sk-parallel {\n",
              "  display: flex;\n",
              "  align-items: stretch;\n",
              "  justify-content: center;\n",
              "  background-color: var(--sklearn-color-background);\n",
              "  position: relative;\n",
              "}\n",
              "\n",
              "#sk-container-id-1 div.sk-parallel-item {\n",
              "  display: flex;\n",
              "  flex-direction: column;\n",
              "}\n",
              "\n",
              "#sk-container-id-1 div.sk-parallel-item:first-child::after {\n",
              "  align-self: flex-end;\n",
              "  width: 50%;\n",
              "}\n",
              "\n",
              "#sk-container-id-1 div.sk-parallel-item:last-child::after {\n",
              "  align-self: flex-start;\n",
              "  width: 50%;\n",
              "}\n",
              "\n",
              "#sk-container-id-1 div.sk-parallel-item:only-child::after {\n",
              "  width: 0;\n",
              "}\n",
              "\n",
              "/* Serial-specific style estimator block */\n",
              "\n",
              "#sk-container-id-1 div.sk-serial {\n",
              "  display: flex;\n",
              "  flex-direction: column;\n",
              "  align-items: center;\n",
              "  background-color: var(--sklearn-color-background);\n",
              "  padding-right: 1em;\n",
              "  padding-left: 1em;\n",
              "}\n",
              "\n",
              "\n",
              "/* Toggleable style: style used for estimator/Pipeline/ColumnTransformer box that is\n",
              "clickable and can be expanded/collapsed.\n",
              "- Pipeline and ColumnTransformer use this feature and define the default style\n",
              "- Estimators will overwrite some part of the style using the `sk-estimator` class\n",
              "*/\n",
              "\n",
              "/* Pipeline and ColumnTransformer style (default) */\n",
              "\n",
              "#sk-container-id-1 div.sk-toggleable {\n",
              "  /* Default theme specific background. It is overwritten whether we have a\n",
              "  specific estimator or a Pipeline/ColumnTransformer */\n",
              "  background-color: var(--sklearn-color-background);\n",
              "}\n",
              "\n",
              "/* Toggleable label */\n",
              "#sk-container-id-1 label.sk-toggleable__label {\n",
              "  cursor: pointer;\n",
              "  display: block;\n",
              "  width: 100%;\n",
              "  margin-bottom: 0;\n",
              "  padding: 0.5em;\n",
              "  box-sizing: border-box;\n",
              "  text-align: center;\n",
              "}\n",
              "\n",
              "#sk-container-id-1 label.sk-toggleable__label-arrow:before {\n",
              "  /* Arrow on the left of the label */\n",
              "  content: \"▸\";\n",
              "  float: left;\n",
              "  margin-right: 0.25em;\n",
              "  color: var(--sklearn-color-icon);\n",
              "}\n",
              "\n",
              "#sk-container-id-1 label.sk-toggleable__label-arrow:hover:before {\n",
              "  color: var(--sklearn-color-text);\n",
              "}\n",
              "\n",
              "/* Toggleable content - dropdown */\n",
              "\n",
              "#sk-container-id-1 div.sk-toggleable__content {\n",
              "  max-height: 0;\n",
              "  max-width: 0;\n",
              "  overflow: hidden;\n",
              "  text-align: left;\n",
              "  /* unfitted */\n",
              "  background-color: var(--sklearn-color-unfitted-level-0);\n",
              "}\n",
              "\n",
              "#sk-container-id-1 div.sk-toggleable__content.fitted {\n",
              "  /* fitted */\n",
              "  background-color: var(--sklearn-color-fitted-level-0);\n",
              "}\n",
              "\n",
              "#sk-container-id-1 div.sk-toggleable__content pre {\n",
              "  margin: 0.2em;\n",
              "  border-radius: 0.25em;\n",
              "  color: var(--sklearn-color-text);\n",
              "  /* unfitted */\n",
              "  background-color: var(--sklearn-color-unfitted-level-0);\n",
              "}\n",
              "\n",
              "#sk-container-id-1 div.sk-toggleable__content.fitted pre {\n",
              "  /* unfitted */\n",
              "  background-color: var(--sklearn-color-fitted-level-0);\n",
              "}\n",
              "\n",
              "#sk-container-id-1 input.sk-toggleable__control:checked~div.sk-toggleable__content {\n",
              "  /* Expand drop-down */\n",
              "  max-height: 200px;\n",
              "  max-width: 100%;\n",
              "  overflow: auto;\n",
              "}\n",
              "\n",
              "#sk-container-id-1 input.sk-toggleable__control:checked~label.sk-toggleable__label-arrow:before {\n",
              "  content: \"▾\";\n",
              "}\n",
              "\n",
              "/* Pipeline/ColumnTransformer-specific style */\n",
              "\n",
              "#sk-container-id-1 div.sk-label input.sk-toggleable__control:checked~label.sk-toggleable__label {\n",
              "  color: var(--sklearn-color-text);\n",
              "  background-color: var(--sklearn-color-unfitted-level-2);\n",
              "}\n",
              "\n",
              "#sk-container-id-1 div.sk-label.fitted input.sk-toggleable__control:checked~label.sk-toggleable__label {\n",
              "  background-color: var(--sklearn-color-fitted-level-2);\n",
              "}\n",
              "\n",
              "/* Estimator-specific style */\n",
              "\n",
              "/* Colorize estimator box */\n",
              "#sk-container-id-1 div.sk-estimator input.sk-toggleable__control:checked~label.sk-toggleable__label {\n",
              "  /* unfitted */\n",
              "  background-color: var(--sklearn-color-unfitted-level-2);\n",
              "}\n",
              "\n",
              "#sk-container-id-1 div.sk-estimator.fitted input.sk-toggleable__control:checked~label.sk-toggleable__label {\n",
              "  /* fitted */\n",
              "  background-color: var(--sklearn-color-fitted-level-2);\n",
              "}\n",
              "\n",
              "#sk-container-id-1 div.sk-label label.sk-toggleable__label,\n",
              "#sk-container-id-1 div.sk-label label {\n",
              "  /* The background is the default theme color */\n",
              "  color: var(--sklearn-color-text-on-default-background);\n",
              "}\n",
              "\n",
              "/* On hover, darken the color of the background */\n",
              "#sk-container-id-1 div.sk-label:hover label.sk-toggleable__label {\n",
              "  color: var(--sklearn-color-text);\n",
              "  background-color: var(--sklearn-color-unfitted-level-2);\n",
              "}\n",
              "\n",
              "/* Label box, darken color on hover, fitted */\n",
              "#sk-container-id-1 div.sk-label.fitted:hover label.sk-toggleable__label.fitted {\n",
              "  color: var(--sklearn-color-text);\n",
              "  background-color: var(--sklearn-color-fitted-level-2);\n",
              "}\n",
              "\n",
              "/* Estimator label */\n",
              "\n",
              "#sk-container-id-1 div.sk-label label {\n",
              "  font-family: monospace;\n",
              "  font-weight: bold;\n",
              "  display: inline-block;\n",
              "  line-height: 1.2em;\n",
              "}\n",
              "\n",
              "#sk-container-id-1 div.sk-label-container {\n",
              "  text-align: center;\n",
              "}\n",
              "\n",
              "/* Estimator-specific */\n",
              "#sk-container-id-1 div.sk-estimator {\n",
              "  font-family: monospace;\n",
              "  border: 1px dotted var(--sklearn-color-border-box);\n",
              "  border-radius: 0.25em;\n",
              "  box-sizing: border-box;\n",
              "  margin-bottom: 0.5em;\n",
              "  /* unfitted */\n",
              "  background-color: var(--sklearn-color-unfitted-level-0);\n",
              "}\n",
              "\n",
              "#sk-container-id-1 div.sk-estimator.fitted {\n",
              "  /* fitted */\n",
              "  background-color: var(--sklearn-color-fitted-level-0);\n",
              "}\n",
              "\n",
              "/* on hover */\n",
              "#sk-container-id-1 div.sk-estimator:hover {\n",
              "  /* unfitted */\n",
              "  background-color: var(--sklearn-color-unfitted-level-2);\n",
              "}\n",
              "\n",
              "#sk-container-id-1 div.sk-estimator.fitted:hover {\n",
              "  /* fitted */\n",
              "  background-color: var(--sklearn-color-fitted-level-2);\n",
              "}\n",
              "\n",
              "/* Specification for estimator info (e.g. \"i\" and \"?\") */\n",
              "\n",
              "/* Common style for \"i\" and \"?\" */\n",
              "\n",
              ".sk-estimator-doc-link,\n",
              "a:link.sk-estimator-doc-link,\n",
              "a:visited.sk-estimator-doc-link {\n",
              "  float: right;\n",
              "  font-size: smaller;\n",
              "  line-height: 1em;\n",
              "  font-family: monospace;\n",
              "  background-color: var(--sklearn-color-background);\n",
              "  border-radius: 1em;\n",
              "  height: 1em;\n",
              "  width: 1em;\n",
              "  text-decoration: none !important;\n",
              "  margin-left: 1ex;\n",
              "  /* unfitted */\n",
              "  border: var(--sklearn-color-unfitted-level-1) 1pt solid;\n",
              "  color: var(--sklearn-color-unfitted-level-1);\n",
              "}\n",
              "\n",
              ".sk-estimator-doc-link.fitted,\n",
              "a:link.sk-estimator-doc-link.fitted,\n",
              "a:visited.sk-estimator-doc-link.fitted {\n",
              "  /* fitted */\n",
              "  border: var(--sklearn-color-fitted-level-1) 1pt solid;\n",
              "  color: var(--sklearn-color-fitted-level-1);\n",
              "}\n",
              "\n",
              "/* On hover */\n",
              "div.sk-estimator:hover .sk-estimator-doc-link:hover,\n",
              ".sk-estimator-doc-link:hover,\n",
              "div.sk-label-container:hover .sk-estimator-doc-link:hover,\n",
              ".sk-estimator-doc-link:hover {\n",
              "  /* unfitted */\n",
              "  background-color: var(--sklearn-color-unfitted-level-3);\n",
              "  color: var(--sklearn-color-background);\n",
              "  text-decoration: none;\n",
              "}\n",
              "\n",
              "div.sk-estimator.fitted:hover .sk-estimator-doc-link.fitted:hover,\n",
              ".sk-estimator-doc-link.fitted:hover,\n",
              "div.sk-label-container:hover .sk-estimator-doc-link.fitted:hover,\n",
              ".sk-estimator-doc-link.fitted:hover {\n",
              "  /* fitted */\n",
              "  background-color: var(--sklearn-color-fitted-level-3);\n",
              "  color: var(--sklearn-color-background);\n",
              "  text-decoration: none;\n",
              "}\n",
              "\n",
              "/* Span, style for the box shown on hovering the info icon */\n",
              ".sk-estimator-doc-link span {\n",
              "  display: none;\n",
              "  z-index: 9999;\n",
              "  position: relative;\n",
              "  font-weight: normal;\n",
              "  right: .2ex;\n",
              "  padding: .5ex;\n",
              "  margin: .5ex;\n",
              "  width: min-content;\n",
              "  min-width: 20ex;\n",
              "  max-width: 50ex;\n",
              "  color: var(--sklearn-color-text);\n",
              "  box-shadow: 2pt 2pt 4pt #999;\n",
              "  /* unfitted */\n",
              "  background: var(--sklearn-color-unfitted-level-0);\n",
              "  border: .5pt solid var(--sklearn-color-unfitted-level-3);\n",
              "}\n",
              "\n",
              ".sk-estimator-doc-link.fitted span {\n",
              "  /* fitted */\n",
              "  background: var(--sklearn-color-fitted-level-0);\n",
              "  border: var(--sklearn-color-fitted-level-3);\n",
              "}\n",
              "\n",
              ".sk-estimator-doc-link:hover span {\n",
              "  display: block;\n",
              "}\n",
              "\n",
              "/* \"?\"-specific style due to the `<a>` HTML tag */\n",
              "\n",
              "#sk-container-id-1 a.estimator_doc_link {\n",
              "  float: right;\n",
              "  font-size: 1rem;\n",
              "  line-height: 1em;\n",
              "  font-family: monospace;\n",
              "  background-color: var(--sklearn-color-background);\n",
              "  border-radius: 1rem;\n",
              "  height: 1rem;\n",
              "  width: 1rem;\n",
              "  text-decoration: none;\n",
              "  /* unfitted */\n",
              "  color: var(--sklearn-color-unfitted-level-1);\n",
              "  border: var(--sklearn-color-unfitted-level-1) 1pt solid;\n",
              "}\n",
              "\n",
              "#sk-container-id-1 a.estimator_doc_link.fitted {\n",
              "  /* fitted */\n",
              "  border: var(--sklearn-color-fitted-level-1) 1pt solid;\n",
              "  color: var(--sklearn-color-fitted-level-1);\n",
              "}\n",
              "\n",
              "/* On hover */\n",
              "#sk-container-id-1 a.estimator_doc_link:hover {\n",
              "  /* unfitted */\n",
              "  background-color: var(--sklearn-color-unfitted-level-3);\n",
              "  color: var(--sklearn-color-background);\n",
              "  text-decoration: none;\n",
              "}\n",
              "\n",
              "#sk-container-id-1 a.estimator_doc_link.fitted:hover {\n",
              "  /* fitted */\n",
              "  background-color: var(--sklearn-color-fitted-level-3);\n",
              "}\n",
              "</style><div id=\"sk-container-id-1\" class=\"sk-top-container\"><div class=\"sk-text-repr-fallback\"><pre>KNeighborsClassifier()</pre><b>In a Jupyter environment, please rerun this cell to show the HTML representation or trust the notebook. <br />On GitHub, the HTML representation is unable to render, please try loading this page with nbviewer.org.</b></div><div class=\"sk-container\" hidden><div class=\"sk-item\"><div class=\"sk-estimator fitted sk-toggleable\"><input class=\"sk-toggleable__control sk-hidden--visually\" id=\"sk-estimator-id-1\" type=\"checkbox\" checked><label for=\"sk-estimator-id-1\" class=\"sk-toggleable__label fitted sk-toggleable__label-arrow fitted\">&nbsp;&nbsp;KNeighborsClassifier<a class=\"sk-estimator-doc-link fitted\" rel=\"noreferrer\" target=\"_blank\" href=\"https://scikit-learn.org/1.5/modules/generated/sklearn.neighbors.KNeighborsClassifier.html\">?<span>Documentation for KNeighborsClassifier</span></a><span class=\"sk-estimator-doc-link fitted\">i<span>Fitted</span></span></label><div class=\"sk-toggleable__content fitted\"><pre>KNeighborsClassifier()</pre></div> </div></div></div></div>"
            ]
          },
          "metadata": {},
          "execution_count": 21
        }
      ]
    },
    {
      "cell_type": "markdown",
      "source": [
        "#### **Hint**:\n",
        "Use `knn.fit()` to train the model on the scaled training set."
      ],
      "metadata": {
        "id": "9fZNU_RO51v5"
      }
    },
    {
      "cell_type": "markdown",
      "source": [
        "### 7. **Evaluating on the Validation Set**\n",
        "\n",
        "#### **Instructions**:\n",
        "After training the model, we will evaluate its performance on the validation set by calculating the accuracy."
      ],
      "metadata": {
        "id": "Isi512Zc58GV"
      }
    },
    {
      "cell_type": "code",
      "source": [
        "# Step 7: Make predictions on the validation set and calculate accuracy\n",
        "\n",
        "# Make predictions\n",
        "y_val_pred = knn.predict(X_val_scaled)\n",
        "\n",
        "# Calculate the accuracy\n",
        "val_accuracy = accuracy_score(y_val, y_val_pred)\n",
        "print(f\"Validation Accuracy with k=5: {val_accuracy}\")"
      ],
      "metadata": {
        "id": "do5EVywp6Avm",
        "outputId": "6477b983-10fa-4120-8f03-a2624bc7ed2b",
        "colab": {
          "base_uri": "https://localhost:8080/"
        }
      },
      "execution_count": 22,
      "outputs": [
        {
          "output_type": "stream",
          "name": "stdout",
          "text": [
            "Validation Accuracy with k=5: 0.9333333333333333\n"
          ]
        }
      ]
    },
    {
      "cell_type": "markdown",
      "source": [
        "#### **Hint**:\n",
        "Use `accuracy_score()` to calculate how accurate the model’s predictions are on the validation set."
      ],
      "metadata": {
        "id": "Oxwr1xgU6D4y"
      }
    },
    {
      "cell_type": "markdown",
      "source": [
        "### 8. **Tuning \\( k \\) Using Validation Accuracy**\n",
        "\n",
        "#### **Explanation**:\n",
        "The choice of \\( k \\) significantly impacts the performance of the KNN model. A small \\( k \\) may lead to overfitting (focusing too much on local noise), while a large \\( k \\) may cause underfitting (over-generalizing). We will now try different values of \\( k \\) to find the best one.\n",
        "\n",
        "#### **Why use the validation set for tuning?**\n",
        "The validation set helps us find the optimal \\( k \\) by testing different values and observing how the validation accuracy changes. Once we determine the best \\( k \\), we train the final model using the training set and evaluate it on the test set.\n",
        "\n",
        "#### **Instructions**:\n",
        "We will test values of \\( k \\) from 1 to 20 and find the one that gives the highest validation accuracy."
      ],
      "metadata": {
        "id": "qlzO8Xvt6IUq"
      }
    },
    {
      "cell_type": "code",
      "source": [
        "# Step 8: Tune k using validation accuracy\n",
        "\n",
        "k_values = list(range(1, 21))  # Test k values from 1 to 20\n",
        "val_accuracies = []\n",
        "\n",
        "# Loop through k values and evaluate the accuracy\n",
        "for k in k_values:\n",
        "    knn = KNeighborsClassifier(n_neighbors=k)\n",
        "    knn.fit(X_train_scaled, y_train)\n",
        "    y_val_pred = knn.predict(X_val_scaled)\n",
        "    val_accuracy = accuracy_score(y_val, y_val_pred)\n",
        "    val_accuracies.append(val_accuracy)\n",
        "\n",
        "# Plot validation accuracy vs k values\n",
        "plt.plot(k_values, val_accuracies)\n",
        "plt.xlabel('k')\n",
        "plt.ylabel('Validation Accuracy')\n",
        "plt.title('Validation Accuracy vs K')\n",
        "plt.show()"
      ],
      "metadata": {
        "id": "F6gtvYAk6OCe",
        "outputId": "802d597e-3b88-4a03-fb9f-1cbbae05b627",
        "colab": {
          "base_uri": "https://localhost:8080/",
          "height": 472
        }
      },
      "execution_count": 23,
      "outputs": [
        {
          "output_type": "display_data",
          "data": {
            "text/plain": [
              "<Figure size 640x480 with 1 Axes>"
            ],
            "image/png": "[encoded data removed]"
          },
          "metadata": {}
        }
      ]
    },
    {
      "cell_type": "markdown",
      "source": [
        "#### **Hint**:\n",
        "Use a loop to train and evaluate the model for different \\( k \\) values."
      ],
      "metadata": {
        "id": "SLkcLB5l6SiT"
      }
    },
    {
      "cell_type": "markdown",
      "source": [
        "### 9. **Final Evaluation on the Test Set**\n",
        "\n",
        "#### **Instructions**:\n",
        "After selecting the best \\( k \\), we will re-train the model using the training set and evaluate it on the test set."
      ],
      "metadata": {
        "id": "TqtO3sUp6bV7"
      }
    },
    {
      "cell_type": "code",
      "source": [
        "# Step 9: Train the final model with the best k value\n",
        "\n",
        "optimal_k = 5  # Replace this with the best k\n",
        "knn = KNeighborsClassifier(n_neighbors=optimal_k)\n",
        "\n",
        "# Train the model on the training data and evaluate on the test set\n",
        "knn.fit(X_train_scaled, y_train)\n",
        "y_test_pred = knn.predict(X_test_scaled)\n",
        "\n",
        "# Calculate the test accuracy and print classification report\n",
        "test_accuracy = accuracy_score(y_test, y_test_pred)\n",
        "print(f\"Test Accuracy with k={optimal_k}: {test_accuracy}\")\n",
        "\n",
        "# Print the classification report\n",
        "print(classification_report(y_test, y_test_pred, target_names=iris_data.target_names))\n"
      ],
      "metadata": {
        "id": "wtO1gUHC6gu_",
        "outputId": "3605b82a-ee50-4faf-a44b-265311ba5898",
        "colab": {
          "base_uri": "https://localhost:8080/"
        }
      },
      "execution_count": 24,
      "outputs": [
        {
          "output_type": "stream",
          "name": "stdout",
          "text": [
            "Test Accuracy with k=5: 0.9\n",
            "              precision    recall  f1-score   support\n",
            "\n",
            "      setosa       1.00      1.00      1.00        10\n",
            "  versicolor       0.77      1.00      0.87        10\n",
            "   virginica       1.00      0.70      0.82        10\n",
            "\n",
            "    accuracy                           0.90        30\n",
            "   macro avg       0.92      0.90      0.90        30\n",
            "weighted avg       0.92      0.90      0.90        30\n",
            "\n"
          ]
        }
      ]
    },
    {
      "cell_type": "markdown",
      "source": [
        "#### **Hint**:\n",
        "Use `classification_report()` from `sklearn.metrics` to evaluate precision, recall, and F1-score for each class."
      ],
      "metadata": {
        "id": "672o47Fd6lPG"
      }
    },
    {
      "cell_type": "markdown",
      "source": [
        "### 10. **Visualizing the Decision Boundary**\n",
        "\n",
        "#### **Instructions**:\n",
        "To better understand how the KNN model is classifying data, we will visualize the **decision boundary**. This will show us how the model separates the different classes."
      ],
      "metadata": {
        "id": "v_btGUj36vYM"
      }
    },
    {
      "cell_type": "code",
      "source": [
        "# Step 10: Visualize the decision boundary using the first two features\n",
        "\n",
        "from sklearn.inspection import DecisionBoundaryDisplay\n",
        "\n",
        "# Use only the first two features of the dataset\n",
        "X_train_2d = X_train_scaled[:, :2]\n",
        "knn_2d = KNeighborsClassifier(n_neighbors=optimal_k)\n",
        "knn_2d.fit(X_train_2d, y_train)\n",
        "\n",
        "# Plot the decision boundary\n",
        "DecisionBoundaryDisplay.from_estimator(knn_2d, X_train_2d, response_method='predict', cmap='coolwarm')\n",
        "plt.title(f\"Decision Boundary with k={optimal_k}\")\n",
        "plt.show()"
      ],
      "metadata": {
        "id": "6nL_lBjS6xH7",
        "outputId": "77db567a-d0b0-4c67-a52a-b2834084acaf",
        "colab": {
          "base_uri": "https://localhost:8080/",
          "height": 452
        }
      },
      "execution_count": 25,
      "outputs": [
        {
          "output_type": "display_data",
          "data": {
            "text/plain": [
              "<Figure size 640x480 with 1 Axes>"
            ],
            "image/png": "[encoded data removed]"
          },
          "metadata": {}
        }
      ]
    },
    {
      "cell_type": "markdown",
      "source": [
        "#### **Explanation**:\n",
        "- **Decision Boundary**: This plot shows how the KNN model divides the space based on class. Points in one region belong to one class, and points in another region belong to a different class. Notice how the boundaries become smoother or more complex as \\( k \\) changes:\n",
        "    - **Small \\( k \\)**: Complex boundaries that may overfit.\n",
        "    - **Large \\( k \\)**: Smoother boundaries that may underfit."
      ],
      "metadata": {
        "id": "nkS8Pw4c613J"
      }
    },
    {
      "cell_type": "markdown",
      "source": [
        "### **What to Do If Results Are Not Good?**\n",
        "\n",
        "#### **Explanation**:\n",
        "Sometimes the model might not perform well. Here are some steps you can take to improve the performance:\n",
        "- **Low Accuracy**: Try adjusting \\( k \\), checking if features need further preprocessing, or experimenting with other algorithms.\n",
        "- **Low Precision/Recall**: Consider rebalancing the dataset, adjusting the model’s hyperparameters, or trying a different classifier (e.g., Decision Trees or Logistic Regression).\n",
        "\n",
        "### **Common Pitfalls**\n",
        "\n",
        "- **Not Standardizing Data**: KNN relies on distance, so always make sure your data is standardized. Forgetting this step can lead to poor results.\n",
        "- **Choosing \\( k \\) too small or large**: Small \\( k \\) values may overfit, while large \\( k \\) values might underfit. Always test multiple \\( k \\) values using validation data.\n",
        "\n",
        "### **Optional Challenges**\n",
        "\n",
        "- Try using a different dataset (e.g., the Wine or Breast Cancer dataset from `scikit-learn`).\n",
        "- Experiment with adding/removing features to see how it affects accuracy.\n",
        "- Use a different classifier, such as Logistic Regression, and compare its performance to KNN.\n",
        "\n",
        "### **Summary:**\n",
        "\n",
        "In this lab, you:\n",
        "- Loaded and explored the Iris dataset.\n",
        "- Trained and evaluated a K-Nearest Neighbours classifier.\n",
        "- Tuned the hyperparameter \\( k \\) and visualized decision boundaries.\n",
        "- Evaluated the model on the test set using accuracy and classification metrics.\n",
        "- Explored common pitfalls, what to do if the results aren't good, and optional challenges for deeper exploration.\n"
      ],
      "metadata": {
        "id": "mMoF5QE76_AS"
      }
    },
    {
      "cell_type": "code",
      "source": [],
      "metadata": {
        "id": "FzL1aJwN7S1w"
      },
      "execution_count": null,
      "outputs": []
    }
  ]
}