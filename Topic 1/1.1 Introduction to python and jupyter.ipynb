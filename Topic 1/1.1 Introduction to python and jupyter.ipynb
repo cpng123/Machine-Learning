{
 "cells": [
  {
   "cell_type": "markdown",
   "metadata": {},
   "source": [
    "# Introduction to Python and Jupyter\n",
    "\n",
    "## Instructions:\n",
    "\n",
    "* Go through the notebook and complete the tasks. \n",
    "\n",
    "* Make sure you understand the examples given. If you need help, refer to the documentation links provided or go to the discussion forum. \n",
    "\n",
    "* Save your notebooks when you are done. \n",
    "\n",
    "We will be using Python 3.5 (or later).\n",
    "We will also be using the Jupyter notebook environment for Python. Documentation for Jupyter can be found here: http://jupyter.readthedocs.io/en/latest/\n",
    " \n",
    "\n",
    "## 1 Cells\n",
    "### 1.1 Executing cells\n",
    "Jupyter notebooks contain individual code cells that are executed when we click on them and then press &lt;Ctrl&gt;+&lt;Enter&gt;.\n",
    "Note that this is like executing different pieces of code within the same namespace: if a variable is set when executing a cell, this persists when executing the next cell.\n",
    "\n",
    "**Task 1:** \n",
    "Run the following two cells in sequence: firstly, click on each cell, then press &lt;Ctrl&gt;+&lt;Enter&gt;.\n",
    "\n"
   ]
  },
  {
   "cell_type": "code",
   "execution_count": 2,
   "metadata": {},
   "outputs": [],
   "source": [
    "#set variable x to value 3\n",
    "x=3"
   ]
  },
  {
   "cell_type": "code",
   "execution_count": 3,
   "metadata": {},
   "outputs": [
    {
     "name": "stdout",
     "output_type": "stream",
     "text": [
      "3\n"
     ]
    }
   ],
   "source": [
    "#print the value of variable x\n",
    "print(x)"
   ]
  },
  {
   "cell_type": "markdown",
   "metadata": {},
   "source": [
    "Had we executed the second cell first, we would get an error message since the variable x would not be set yet.\n",
    "\n",
    "### 1.2 Inserting and deleting cells\n",
    "To insert a cell, from the menu select Insert and then Insert Cell Above or Insert Cell Below. Alternatively, you can simply click in an empty space in the notebook (below any already existing cells).\n",
    "To delete the cell, you can press the key d twice, while the border of the cell is blue (you can achieve this by clicking to the left of the cell content).\n",
    "\n",
    "**Task 2:**\n",
    "Try inserting a cell below this one. Type some Python code, for example, print(\"hello\"), and hit &lt;Ctrl&gt;+&lt;Enter&gt;. When you verify that everything is working properly, delete the cell.\n",
    "\n"
   ]
  },
  {
   "cell_type": "code",
   "execution_count": 2,
   "metadata": {},
   "outputs": [
    {
     "name": "stdout",
     "output_type": "stream",
     "text": [
      "hello\n"
     ]
    }
   ],
   "source": [
    "print(\"hello\")"
   ]
  },
  {
   "cell_type": "markdown",
   "metadata": {},
   "source": [
    "### 1.3 Non-code cells\n",
    "You can change the type of a cell from the drop-down list below the Jupyter main menu. Markdown cells are used for non-code (much like this one) but can also render mathematical expressions via LaTeX, which is a useful typesetting system.\n",
    "You can find out more about markdown and Jupyter <a href=\"https://jupyter-notebook.readthedocs.io/en/latest/examples/Notebook/Working%20With%20Markdown%20Cells.html\">here</a>. \n",
    "\n",
    "**Task 3:**\n",
    " - Insert a new cell below \n",
    " - Change the cell type to markdown\n",
    " - Create a link, for example, <a href=\"https://www.wikipedia.org/\">wikipedia</a>\n",
    " - Insert the following code: $$x^2=y^2+z^2$$\n",
    " - Run the cell."
   ]
  },
  {
   "cell_type": "markdown",
   "metadata": {},
   "source": [
    "### 1.4 More on LaTeX\n",
    "LaTeX is usually used to write scientific expressions. If you want to read more about it, <a href=\"https://wch.github.io/latexsheet/latexsheet.pdf\">here</a> is a cheat sheet, and a few more LaTeX expressions (double click this cell to see the code):\n",
    "\n",
    "$$\\sum_{i=1}^Nx_i^2, \\frac{\\mathbf{x}}{\\mathbf{y}}$$\n",
    "$$\\mathbf{y}=\\begin{bmatrix}y_1\\\\ y_2\\\\ \\vdots\\\\ y_n \\end{bmatrix}\\nonumber$$\n",
    "$$\\mathbf{X}= \\begin{bmatrix} \\mathbf{X}_{1,1} & \\mathbf{X}_{1,2} \\\\ \\mathbf{X}_{2,1} & \\mathbf{X}_{2,2} \\end{bmatrix}$$\n",
    "\n",
    "\n"
   ]
  },
  {
   "cell_type": "markdown",
   "metadata": {},
   "source": [
    "## 2 Notebook format\n",
    "Jupyter notebooks follow the <a href=\"https://en.wikipedia.org/wiki/JSON\">JSON</a> format. This makes it easy to share notebook files (since they are not binary files) and can be easily copied and pasted.\n",
    "<a href=\"https://gist.github.com/\">Gist</a> is a service where people can upload (publicly or privately).\n",
    "* Public notebooks are searchable. For example, <a href=\"https://gist.github.com/search?utf8=%E2%9C%93&q=face+detection&ref=searchresults\">here</a> we can see the results of a search for code that performs face detection (note that this is not only for Python).\n",
    "* We can paste a notebook URL <a href=\"http://nbviewer.jupyter.org/\">here</a>. "
   ]
  }
 ],
 "metadata": {
  "kernelspec": {
   "display_name": "Python 3",
   "language": "python",
   "name": "python3"
  },
  "language_info": {
   "codemirror_mode": {
    "name": "ipython",
    "version": 3
   },
   "file_extension": ".py",
   "mimetype": "text/x-python",
   "name": "python",
   "nbconvert_exporter": "python",
   "pygments_lexer": "ipython3",
   "version": "3.7.6"
  }
 },
 "nbformat": 4,
 "nbformat_minor": 2
}
