{
 "cells": [
  {
   "cell_type": "markdown",
   "metadata": {},
   "source": [
    "# Introduction to NumPy\n",
    "\n",
    "## Instructions:\n",
    "* Go through the notebook and complete the tasks. \n",
    "* Make sure you understand the examples given. If you need help, refer to the documentation links provided or go to the discussion forum. \n",
    "* Save your notebooks when you are done.\n",
    "\n",
    "Note that we use the import keyword to import modules and libraries in Python. You can find out more about this <a href=\"https://docs.python.org/3/tutorial/modules.html\">here</a>.\n",
    "\n",
    "\n"
   ]
  },
  {
   "cell_type": "code",
   "execution_count": 1,
   "metadata": {},
   "outputs": [],
   "source": [
    "import numpy as np"
   ]
  },
  {
   "cell_type": "markdown",
   "metadata": {},
   "source": [
    "## 1 NumPy arrays\n",
    "\n",
    "NumPy n-dimensional arrays (referred to as ndarrays are a fundamental structure for ML in Python.\n",
    "\n",
    "### 1.1 Usage examples\n",
    "\n",
    "To create a NumPy array from list:\n",
    "\n",
    "    data1D = [6, 7, 8]\n",
    "    data1DnD = np.array(data1D)\n",
    "    print(data1D)\n",
    "    print(data1DnD)\n",
    "\n",
    "To print useful properties of our array:\n",
    "\n",
    "    print(data1DnD.shape)\n",
    "    print(data1DnD.ndim)\n",
    "    print(data1DnD.dtype)\n",
    "\n",
    "To change the type of elements:\n",
    "\n",
    "    data1DnD_float = data1DnD.astype(np.float)\n",
    "    data1DnD_string = data1DnD.astype(np.string_)\n",
    "\n",
    "For array indexing:\n",
    "\n",
    "    print(a[0])   #return the first element of ndarray a\n",
    "    print(a[:])   #return all the elements of ndarray a\n",
    "    print(a[-1])  #return the last element of ndarray a\n",
    "    print(a[:-1]) #return everything up to the last element\n",
    "    print(a[:-2]) #return everything up to the second last element\n",
    "    print(a[-2])  #return the second last element\n",
    "\n",
    "There are various ways of creating an ndarray:\n",
    "\n",
    "    a = np.array([1, 2, 3])\n",
    "    b = np.zeros((1,5))              # Create an array of all zeros\n",
    "    c = np.ones((1,5))               # Create an array of all ones\n",
    "    d = np.full((1,5), 7)            # Create an array filled with value 7\n",
    "    e = np.random.random((1,4))      # Create an array filled with random values\n",
    "    f = np.eye(3)                    # Create a 3x3 identity matrix (2D array)\n",
    "    g = np.ones((3,3,3))             # 3-Dimensional array\n",
    "\n",
    "As the name suggests, an n-dimensional array can be generalised to multiple dimensions:\n",
    "\n",
    "    A=np.array([ [1,2], [3,4] ])     # Create a 2-D array (Matrix)\n",
    "    print(A[0,1])                    # return the element on first column, second row (0,1)=2\n",
    "                                     # array indexing works as above\n",
    "\n",
    "We can reshape a vector (for example, ```v=[v1,v2,…,vN]```) to a matrix of ```N1 x N2``` dimensions (where ```N1xN2 = N```). This is particularly useful for plotting images.  As an example using numpy’s reshape method:\n",
    "\n",
    "    A = np.array([1,2,3,4,5,6])  # a 1D array \n",
    "    B = np.reshape( A, [2,3] ) # reshape as a 2D array with 2 rows and 3 columns\n",
    "    print(B)\n",
    " \n",
    "**Task 1:**\n",
    "Go through the examples above, pasting the code given in the empty cell below and verifying the results. \n",
    "Make sure you understand what this basic code does. You can find some NumPy documentation <a href=\"http://docs.scipy.org/doc/numpy/reference/generated/numpy.ndarray.html\">here</a>."
   ]
  },
  {
   "cell_type": "code",
   "execution_count": 2,
   "metadata": {},
   "outputs": [
    {
     "name": "stdout",
     "output_type": "stream",
     "text": [
      "Original List: [6, 7, 8]\n",
      "NumPy Array: [6 7 8]\n",
      "Shape: (3,)\n",
      "Dimensions: 1\n",
      "Data Type: int32\n",
      "Array with float type: [6. 7. 8.]\n",
      "Array with string type: [b'6' b'7' b'8']\n",
      "First element: 6\n",
      "All elements: [6 7 8]\n",
      "Last element: 8\n",
      "All elements except the last: [6 7]\n",
      "All elements except the last two: [6]\n",
      "Second last element: 7\n",
      "Array a: [1 2 3]\n",
      "Array b (zeros): [[0. 0. 0. 0. 0.]]\n",
      "Array c (ones): [[1. 1. 1. 1. 1.]]\n",
      "Array d (filled with 7): [[7 7 7 7 7]]\n",
      "Array e (random values): [[0.09210091 0.23051248 0.55919379 0.76171093]]\n",
      "Identity Matrix f: [[1. 0. 0.]\n",
      " [0. 1. 0.]\n",
      " [0. 0. 1.]]\n",
      "3D Array g: [[[1. 1. 1.]\n",
      "  [1. 1. 1.]\n",
      "  [1. 1. 1.]]\n",
      "\n",
      " [[1. 1. 1.]\n",
      "  [1. 1. 1.]\n",
      "  [1. 1. 1.]]\n",
      "\n",
      " [[1. 1. 1.]\n",
      "  [1. 1. 1.]\n",
      "  [1. 1. 1.]]]\n",
      "Element at position (0, 1): 2\n",
      "Reshaped 2D array B: [[1 2 3]\n",
      " [4 5 6]]\n"
     ]
    }
   ],
   "source": [
    "# np.float has been deprecated\n",
    "\n",
    "# Creating a 1D array from a list\n",
    "data1D = [6, 7, 8]\n",
    "data1DnD = np.array(data1D)\n",
    "print(\"Original List:\", data1D)\n",
    "print(\"NumPy Array:\", data1DnD)\n",
    "\n",
    "# Printing useful properties of the array\n",
    "print(\"Shape:\", data1DnD.shape)\n",
    "print(\"Dimensions:\", data1DnD.ndim)\n",
    "print(\"Data Type:\", data1DnD.dtype)\n",
    "\n",
    "# Changing the type of elements\n",
    "data1DnD_float = data1DnD.astype(float)  # Use float instead of np.float\n",
    "data1DnD_string = data1DnD.astype(np.string_)\n",
    "\n",
    "print(\"Array with float type:\", data1DnD_float)\n",
    "print(\"Array with string type:\", data1DnD_string)\n",
    "\n",
    "# Array indexing examples\n",
    "print(\"First element:\", data1DnD[0])      # Return the first element of ndarray\n",
    "print(\"All elements:\", data1DnD[:])       # Return all the elements of ndarray\n",
    "print(\"Last element:\", data1DnD[-1])      # Return the last element\n",
    "print(\"All elements except the last:\", data1DnD[:-1])  # Return everything up to the last element\n",
    "print(\"All elements except the last two:\", data1DnD[:-2])  # Return everything up to the second last element\n",
    "print(\"Second last element:\", data1DnD[-2])  # Return the second last element\n",
    "\n",
    "# Ways to create an ndarray\n",
    "a = np.array([1, 2, 3])           # 1D array\n",
    "b = np.zeros((1, 5))              # Array of all zeros\n",
    "c = np.ones((1, 5))               # Array of all ones\n",
    "d = np.full((1, 5), 7)            # Array filled with value 7\n",
    "e = np.random.random((1, 4))      # Array filled with random values\n",
    "f = np.eye(3)                    # 3x3 identity matrix (2D array)\n",
    "g = np.ones((3, 3, 3))             # 3D array\n",
    "\n",
    "print(\"Array a:\", a)\n",
    "print(\"Array b (zeros):\", b)\n",
    "print(\"Array c (ones):\", c)\n",
    "print(\"Array d (filled with 7):\", d)\n",
    "print(\"Array e (random values):\", e)\n",
    "print(\"Identity Matrix f:\", f)\n",
    "print(\"3D Array g:\", g)\n",
    "\n",
    "# Creating a 2D array (Matrix)\n",
    "A = np.array([[1, 2], [3, 4]])     # 2D array (matrix)\n",
    "print(\"Element at position (0, 1):\", A[0, 1])  # Return the element at first row, second column (0,1)=2\n",
    "\n",
    "# Reshaping a 1D array to a 2D array\n",
    "B = np.array([1, 2, 3, 4, 5, 6])   # A 1D array \n",
    "reshaped_B = np.reshape(B, [2, 3]) # Reshape as a 2D array with 2 rows and 3 columns\n",
    "print(\"Reshaped 2D array B:\", reshaped_B)"
   ]
  },
  {
   "cell_type": "markdown",
   "metadata": {},
   "source": [
    "**Task 2:**\n",
    "In the empty cell below, create an np array called ```L``` consisting of 15 random elements.\n"
   ]
  },
  {
   "cell_type": "code",
   "execution_count": 3,
   "metadata": {},
   "outputs": [
    {
     "name": "stdout",
     "output_type": "stream",
     "text": [
      "[0.07188225 0.37674224 0.14361376 0.91012979 0.10671636 0.02906983\n",
      " 0.05615615 0.42705692 0.47204669 0.76515662 0.72587248 0.17425593\n",
      " 0.11506647 0.81088182 0.16268537]\n"
     ]
    }
   ],
   "source": [
    "# code here\n",
    "L=np.random.random(15)\n",
    "print(L)"
   ]
  },
  {
   "cell_type": "markdown",
   "metadata": {},
   "source": [
    "**Task 3:**\n",
    "Reshape the array ```L``` to a matrix ```A``` that has 5 rows and 3 columns. Print the matrix to verify the result.\n"
   ]
  },
  {
   "cell_type": "code",
   "execution_count": 4,
   "metadata": {},
   "outputs": [
    {
     "name": "stdout",
     "output_type": "stream",
     "text": [
      "[[0.07188225 0.37674224 0.14361376]\n",
      " [0.91012979 0.10671636 0.02906983]\n",
      " [0.05615615 0.42705692 0.47204669]\n",
      " [0.76515662 0.72587248 0.17425593]\n",
      " [0.11506647 0.81088182 0.16268537]]\n"
     ]
    }
   ],
   "source": [
    "# code here\n",
    "A=L.reshape(5,3)\n",
    "print(A)"
   ]
  },
  {
   "cell_type": "markdown",
   "metadata": {},
   "source": [
    "**Task 4:**\n",
    "Reshape matrix ```A``` to a matrix ```B``` that has 3 rows and 5 columns. Then, print the elements in row 0 and 1 only.\n"
   ]
  },
  {
   "cell_type": "code",
   "execution_count": 5,
   "metadata": {},
   "outputs": [
    {
     "name": "stdout",
     "output_type": "stream",
     "text": [
      "[[0.07188225 0.37674224 0.14361376 0.91012979 0.10671636]\n",
      " [0.02906983 0.05615615 0.42705692 0.47204669 0.76515662]\n",
      " [0.72587248 0.17425593 0.11506647 0.81088182 0.16268537]]\n",
      "[[0.07188225 0.37674224 0.14361376 0.91012979 0.10671636]\n",
      " [0.02906983 0.05615615 0.42705692 0.47204669 0.76515662]]\n"
     ]
    }
   ],
   "source": [
    "# code here\n",
    "B=A.reshape(3,5)\n",
    "print(B)\n",
    "print(B[0:2,:])"
   ]
  },
  {
   "cell_type": "markdown",
   "metadata": {},
   "source": [
    "**Task: 5**\n",
    "Print all elements of ```B``` that are in row 0 and 2 <b>and</b> column 1.\n"
   ]
  },
  {
   "cell_type": "code",
   "execution_count": 6,
   "metadata": {},
   "outputs": [
    {
     "name": "stdout",
     "output_type": "stream",
     "text": [
      "[0.37674224 0.17425593]\n"
     ]
    }
   ],
   "source": [
    "# code here\n",
    "print(B[ [0,2], 1])"
   ]
  },
  {
   "cell_type": "markdown",
   "metadata": {},
   "source": [
    "**Task 6:**\n",
    "Print all elements of ```A``` that are in the last row (see the ```[-1]``` notation above) and second to last column.\n"
   ]
  },
  {
   "cell_type": "code",
   "execution_count": 7,
   "metadata": {},
   "outputs": [
    {
     "name": "stdout",
     "output_type": "stream",
     "text": [
      "[0.81088182]\n"
     ]
    }
   ],
   "source": [
    "# code here\n",
    "print(B[ [-1], -2])"
   ]
  },
  {
   "cell_type": "markdown",
   "metadata": {},
   "source": [
    "**Task 7:**\n",
    "Given the array ```Y``` below, find all indices in the array that are equal to the value 1. Use the NumPy function where to do that. Your final output should look like this: ```[1, 3, 4, 7]```.\n",
    "You can find some useful documentation to help you with this <a href=\"https://numpy.org/doc/stable/reference/generated/numpy.where.html\">here</a>.\n"
   ]
  },
  {
   "cell_type": "code",
   "execution_count": 8,
   "metadata": {},
   "outputs": [
    {
     "data": {
      "text/plain": [
       "(array([1, 3, 4, 7], dtype=int64),)"
      ]
     },
     "execution_count": 8,
     "metadata": {},
     "output_type": "execute_result"
    }
   ],
   "source": [
    "Y=np.array([0, 1, 0, 1,1, 2,0,1,0])\n",
    "# code here\n",
    "np.where(Y==1)"
   ]
  },
  {
   "cell_type": "markdown",
   "metadata": {},
   "source": [
    "**Task 8:**\n",
    "Split the array ```Y``` defined above into three arrays by using the NumPy function ```array_split```. Print to verify.\n",
    "You can find some useful documentation to help you with this <a href=\"https://numpy.org/doc/stable/reference/generated/numpy.array_split.html\">here</a>.\n"
   ]
  },
  {
   "cell_type": "code",
   "execution_count": 9,
   "metadata": {},
   "outputs": [
    {
     "data": {
      "text/plain": [
       "[array([0, 1, 0]), array([1, 1, 2]), array([0, 1, 0])]"
      ]
     },
     "execution_count": 9,
     "metadata": {},
     "output_type": "execute_result"
    }
   ],
   "source": [
    "# code here\n",
    "np.array_split(Y,3)"
   ]
  },
  {
   "cell_type": "markdown",
   "metadata": {},
   "source": [
    "**Task 9:**\n",
    "Given the array ```D``` defined below, find the indices that sort the array. Use the NumPy function ```argsort``` in order to do so. Subsequently, print the sorted array. \n",
    "The final output should look like this: ```[ 0 1 2 5 9 10 20]```.\n"
   ]
  },
  {
   "cell_type": "code",
   "execution_count": 10,
   "metadata": {},
   "outputs": [
    {
     "name": "stdout",
     "output_type": "stream",
     "text": [
      "[ 0  1  2  5  9 10 20]\n"
     ]
    }
   ],
   "source": [
    "D=np.array([10,5,2,9,20,0,1])\n",
    "# code here\n",
    "idx=np.argsort(D)\n",
    "print(D[idx])"
   ]
  },
  {
   "cell_type": "markdown",
   "metadata": {},
   "source": [
    "**Task 10:**\n",
    "Create two random 2x2 matrices ```X``` and ```Y``` (2 rows, 2 columns). Use the NumPy function ```concatenate``` in order to concatenate them and create a matrix ```Z``` that has dimensions 4x2 and a matrix ```W``` that has dimensions 2x4.\n",
    "You can find some useful documentation to help you with this <a href=\"https://docs.scipy.org/doc/numpy-1.13.0/reference/generated/numpy.concatenate.html\">here</a>.\n"
   ]
  },
  {
   "cell_type": "code",
   "execution_count": 11,
   "metadata": {},
   "outputs": [
    {
     "name": "stdout",
     "output_type": "stream",
     "text": [
      "[[0.93005674 0.18921789]\n",
      " [0.37513207 0.92947772]\n",
      " [0.62977674 0.23198979]\n",
      " [0.29080048 0.17609419]]\n",
      "[[0.93005674 0.18921789 0.62977674 0.23198979]\n",
      " [0.37513207 0.92947772 0.29080048 0.17609419]]\n"
     ]
    }
   ],
   "source": [
    "# code here\n",
    "X=np.random.random((2,2))\n",
    "Y=np.random.random((2,2))\n",
    "\n",
    "Z=np.concatenate((X,Y),axis=0)\n",
    "W=np.concatenate((X,Y),axis=1)\n",
    "print(Z)\n",
    "print(W)"
   ]
  },
  {
   "cell_type": "markdown",
   "metadata": {},
   "source": [
    "**Task 11:**\n",
    "Create the same matrices ```Z2=Z``` and ```W2=W``` (where ```Z``` and ```W``` are as defined above), but this time use the NumPy functions ```hstack``` and ```vstack```.\n",
    "\n",
    "You can find some useful documentation to help you with ```hstack``` <a href=\"https://docs.scipy.org/doc/numpy-1.13.0/reference/generated/numpy.hstack.html#numpy.hstack\">here</a> and ```vstack``` <a href=\"https://docs.scipy.org/doc/numpy-1.13.0/reference/generated/numpy.vstack.html#numpy.vstack\">here</a>.\n"
   ]
  },
  {
   "cell_type": "code",
   "execution_count": 12,
   "metadata": {},
   "outputs": [
    {
     "name": "stdout",
     "output_type": "stream",
     "text": [
      "[[0.93005674 0.18921789]\n",
      " [0.37513207 0.92947772]\n",
      " [0.62977674 0.23198979]\n",
      " [0.29080048 0.17609419]]\n",
      "[[0.93005674 0.18921789 0.62977674 0.23198979]\n",
      " [0.37513207 0.92947772 0.29080048 0.17609419]]\n"
     ]
    }
   ],
   "source": [
    "# code here\n",
    "Z2 = np.vstack((X,Y))\n",
    "W2 = np.hstack((X,Y))\n",
    "print(Z2)\n",
    "print(W2)"
   ]
  }
 ],
 "metadata": {
  "kernelspec": {
   "display_name": "Python 3 (ipykernel)",
   "language": "python",
   "name": "python3"
  },
  "language_info": {
   "codemirror_mode": {
    "name": "ipython",
    "version": 3
   },
   "file_extension": ".py",
   "mimetype": "text/x-python",
   "name": "python",
   "nbconvert_exporter": "python",
   "pygments_lexer": "ipython3",
   "version": "3.11.5"
  }
 },
 "nbformat": 4,
 "nbformat_minor": 2
}
