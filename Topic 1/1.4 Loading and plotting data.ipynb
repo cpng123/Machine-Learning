{
 "cells": [
  {
   "cell_type": "markdown",
   "metadata": {},
   "source": [
    "# Introduction to matplotlib\n",
    "## Instructions:\n",
    "* Go through the notebook and complete the tasks.\n",
    "* Make sure you understand the examples given. If you need help, refer to the documentation link provided or go to the discussion forum.\n",
    "* When a question allows a free-form answer (e.g. what do you observe?), create a new markdown cell below and answer the question in the notebook. \n",
    "* Save your notebooks when you are done. \n",
    "In this lab, we will be using matplotlib: https://matplotlib.org/ as it provides useful MATLAB-like plotting.\n",
    "\n",
    "## 1. A simple plot\n",
    "\n",
    "**Task 1:**\n",
    "Go through the code below, and read the comments. Execute the cell and observe the results."
   ]
  },
  {
   "cell_type": "code",
   "execution_count": null,
   "metadata": {},
   "outputs": [],
   "source": [
    "#to plot within our notebook\n",
    "%matplotlib inline \n",
    "#%matplotlib - try to comment out above line \n",
    "\n",
    "# import pyplot from matplotlib - we can now refer to members of pyplot by prefixing with plt\n",
    "import matplotlib.pyplot as plt\n",
    "#we can refer to methods defined in numpy  by prefixing with np\n",
    "import numpy as np\n",
    "\n",
    "#generate 200 uniformly sampled points in the range -2 to 2\n",
    "x = np.linspace(-2, 2, 200)\n",
    "\n",
    "#estimate the product of a polynomial with an exponential function\n",
    "y = (x**5 + 2*x**4 + 4*x**3 + 2*x**2 + x + 5)*np.exp(-x**2)\n",
    "plt.plot(x, y)#matplotlib plot\n",
    "plt.grid(True)\n",
    "#plt.savefig(\"plot_1.png\") #we can save the plot if we want to\n"
   ]
  },
  {
   "cell_type": "markdown",
   "metadata": {},
   "source": [
    "Questions:\n",
    "1.\tWhat is the degree of the polynomial used above? \n",
    "2.\tWhat is the data type of variable x? \n",
    "\n",
    "**Task 2:**\n",
    "Plot a sine and cosine function in the same plot using matplotlib: an entire period should be shown. (use ```np.linspace``` as above, and the value of pi in NumPy (```np.pi```) \n",
    "The functions that you need to know about to do this are ```np.pi, np.sin``` and ```np.cos```.\n"
   ]
  },
  {
   "cell_type": "code",
   "execution_count": null,
   "metadata": {},
   "outputs": [],
   "source": []
  },
  {
   "cell_type": "markdown",
   "metadata": {},
   "source": [
    "## 2. Plotting common functions\n",
    "There are several functions typically employed in machine learning settings. Some examples include the following:\n",
    "$$y=\\exp\\{-x\\},\\;\\text{or}\\;y=e^{-x}$$ \n",
    "$$y=log_e{x},\\;\\text{or}\\;y=ln{x}$$ \n",
    "**Task 3:**\n",
    "Try to plot the above functions in the cell below, similarly to how plotting was used above. You can make use of the NumPy functions ```exp``` and ```log```.\n"
   ]
  },
  {
   "cell_type": "code",
   "execution_count": null,
   "metadata": {},
   "outputs": [],
   "source": []
  },
  {
   "cell_type": "markdown",
   "metadata": {},
   "source": [
    "## 3. Loading and plotting datasets\n",
    "**Task 4:**\n",
    "Go through the cells below and execute the code. If you there is a plot function you need help with, refer to the documentation of matplotlib here: https://matplotlib.org.\n"
   ]
  },
  {
   "cell_type": "code",
   "execution_count": null,
   "metadata": {},
   "outputs": [],
   "source": [
    "#PRESS <Ctrl>+<Enter> to execute this cell\n",
    "\n",
    "#%matplotlib inline\n",
    "\n",
    "#In this cell, we load the iris/flower dataset \n",
    "from sklearn import datasets\n",
    "import matplotlib.pyplot as plt\n",
    "\n",
    "iris = datasets.load_iris()\n",
    "\n",
    "# view a description of the dataset\n",
    "print(iris.DESCR)\n"
   ]
  },
  {
   "cell_type": "markdown",
   "metadata": {},
   "source": [
    "## 4. Simple scatter-plot in 2D and 3D\n",
    "**Task 5:**\n",
    "Execute the cell below, and go through the code to see how we can plot in 2D and 3D.\n"
   ]
  },
  {
   "cell_type": "code",
   "execution_count": null,
   "metadata": {},
   "outputs": [],
   "source": [
    "%matplotlib inline \n",
    "#above: directive to plot inline\n",
    "\n",
    "\n",
    "#PRESS <Ctrl>+<Enter> to execute this cell\n",
    "\n",
    "#This populates info regarding the dataset.  Amongst others, we can see that the 'features' used are sepal length and width and petal length and width\n",
    "#Lets plot sepal length against sepal width, using the target labels (which flower)\n",
    "X=iris.data\n",
    "Y=iris.target\n",
    "\n",
    "#first two features are sepal length and sepal width\n",
    "plt.scatter(X[:, 0], X[:, 1], c=Y, cmap=plt.cm.Paired)\n",
    "plt.xlabel('Sepal length')\n",
    "plt.ylabel('Sepal width')\n"
   ]
  },
  {
   "cell_type": "code",
   "execution_count": null,
   "metadata": {},
   "outputs": [],
   "source": [
    "%matplotlib inline\n",
    "\n",
    "#here's also how to plot in 3d:\n",
    "from mpl_toolkits.mplot3d import Axes3D #\n",
    "\n",
    "#create a new figure\n",
    "fig = plt.figure(figsize=(5,5))\n",
    "\n",
    "\n",
    "#this creates a 1x1 grid (just one figure), and now we are plotting subfigure 1 (this is what 111 means)\n",
    "ax = fig.add_subplot(111, projection='3d') \n",
    "\n",
    "#plot first three features in a 3d Plot.  Using : means that we take all elements in the correspond array dimension\n",
    "ax.scatter(X[:, 0], X[:, 1], X[:, 2],c=Y)\n"
   ]
  },
  {
   "cell_type": "markdown",
   "metadata": {},
   "source": [
    "## 5. Histograms\n",
    "**Task 6:**\n",
    "Execute the cell below, and go through the code to see how we can plot a histogram.\n"
   ]
  },
  {
   "cell_type": "code",
   "execution_count": null,
   "metadata": {},
   "outputs": [],
   "source": [
    "#here is a simple histogram plot\n",
    "plt.hist(X[:,0])\n"
   ]
  },
  {
   "cell_type": "markdown",
   "metadata": {},
   "source": [
    "### 6 Plotting subfigures\n",
    "**Task 7:**\n",
    "1.\tExecute the cell below, and go through the code to see how we can plot subfigures. \n",
    "\n",
    "Note that ```add_subplot(wyz)``` means create a figure with w x z subplots (w rows, z columns). \n",
    "\n",
    "2.\tNow switch to the subfigure z and write the plot. \n"
   ]
  },
  {
   "cell_type": "code",
   "execution_count": null,
   "metadata": {},
   "outputs": [],
   "source": [
    "#here's how to create a figure with multiple subplots\n",
    "#here's also how to plot in 3d:\n",
    "\n",
    "fig = plt.figure(figsize=(10,4))\n",
    "\n",
    "#this creates a 1x2 grid (two figures), and now we are plotting subfigure 1 (this is what 121 means)\n",
    "ax = fig.add_subplot(121) \n",
    "\n",
    "plt.scatter(X[:, 0], X[:, 1], c=Y, cmap=plt.cm.Paired)\n",
    "plt.xlabel('Sepal length')\n",
    "plt.ylabel('Sepal width')\n",
    "\n",
    "#note that in the first figure, we did not use commas for 121, and in the second, we used 1,2,2.  Both these methods work\n",
    "ax = fig.add_subplot(1,2,2, projection='3d') \n",
    "\n",
    "ax.scatter(X[:, 0], X[:, 1], X[:, 2],c=Y)\n",
    "\n",
    "ax.set_xlabel('Sepal length')\n",
    "ax.set_ylabel('Sepal width')\n",
    "ax.set_zlabel('Petal length')\n"
   ]
  }
 ],
 "metadata": {
  "kernelspec": {
   "display_name": "Python 3",
   "language": "python",
   "name": "python3"
  },
  "language_info": {
   "codemirror_mode": {
    "name": "ipython",
    "version": 3
   },
   "file_extension": ".py",
   "mimetype": "text/x-python",
   "name": "python",
   "nbconvert_exporter": "python",
   "pygments_lexer": "ipython3",
   "version": "3.7.1"
  }
 },
 "nbformat": 4,
 "nbformat_minor": 2
}
